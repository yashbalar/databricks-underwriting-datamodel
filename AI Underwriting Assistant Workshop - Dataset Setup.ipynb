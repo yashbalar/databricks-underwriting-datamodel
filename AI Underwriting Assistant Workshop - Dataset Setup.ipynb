{
 "cells": [
  {
   "cell_type": "code",
   "execution_count": 0,
   "metadata": {
    "application/vnd.databricks.v1+cell": {
     "cellMetadata": {
      "byteLimit": 2048000,
      "rowLimit": 10000
     },
     "inputWidgets": {},
     "nuid": "1156ed76-43d7-4ee3-af27-02d0ded95775",
     "showTitle": false,
     "tableResultSettingsMap": {},
     "title": ""
    }
   },
   "outputs": [],
   "source": [
    "catalog = dbutils.widgets.get(\"catalog\")\n",
    "schema = dbutils.widgets.get(\"schema\")"
   ]
  },
  {
   "cell_type": "code",
   "execution_count": 0,
   "metadata": {
    "application/vnd.databricks.v1+cell": {
     "cellMetadata": {
      "byteLimit": 2048000,
      "rowLimit": 10000
     },
     "inputWidgets": {},
     "nuid": "18b4ab77-6e2a-4776-bd08-624c0d67a814",
     "showTitle": false,
     "tableResultSettingsMap": {},
     "title": ""
    }
   },
   "outputs": [
    {
     "output_type": "execute_result",
     "data": {
      "text/plain": [
       "DataFrame[]"
      ]
     },
     "execution_count": 25,
     "metadata": {},
     "output_type": "execute_result"
    }
   ],
   "source": [
    "spark.sql(f\"CREATE SCHEMA IF NOT EXISTS {catalog}.{schema}\")\n",
    "spark.sql(f\"USE CATALOG {catalog}\")\n",
    "spark.sql(f\"USE SCHEMA {schema}\")"
   ]
  },
  {
   "cell_type": "code",
   "execution_count": 0,
   "metadata": {
    "application/vnd.databricks.v1+cell": {
     "cellMetadata": {
      "byteLimit": 2048000,
      "rowLimit": 10000
     },
     "inputWidgets": {},
     "nuid": "66997a45-d395-4017-ae27-8cca70f16e70",
     "showTitle": false,
     "tableResultSettingsMap": {},
     "title": ""
    }
   },
   "outputs": [
    {
     "output_type": "display_data",
     "data": {
      "text/html": [
       "<style scoped>\n",
       "  .table-result-container {\n",
       "    max-height: 300px;\n",
       "    overflow: auto;\n",
       "  }\n",
       "  table, th, td {\n",
       "    border: 1px solid black;\n",
       "    border-collapse: collapse;\n",
       "  }\n",
       "  th, td {\n",
       "    padding: 5px;\n",
       "  }\n",
       "  th {\n",
       "    text-align: left;\n",
       "  }\n",
       "</style><div class='table-result-container'><table class='table-result'><thead style='background-color: white'><tr><th>Dropped_Table</th></tr></thead><tbody><tr><td>shared.yash_underwriter_demo.actuarial</td></tr><tr><td>shared.yash_underwriter_demo.client_submission</td></tr><tr><td>shared.yash_underwriter_demo.quote</td></tr><tr><td>shared.yash_underwriter_demo.quote_status</td></tr><tr><td>shared.yash_underwriter_demo.risk</td></tr></tbody></table></div>"
      ]
     },
     "metadata": {
      "application/vnd.databricks.v1+output": {
       "addedWidgets": {},
       "aggData": [],
       "aggError": "",
       "aggOverflow": false,
       "aggSchema": [],
       "aggSeriesLimitReached": false,
       "aggType": "",
       "arguments": {},
       "columnCustomDisplayInfos": {},
       "data": [
        [
         "shared.yash_underwriter_demo.actuarial"
        ],
        [
         "shared.yash_underwriter_demo.client_submission"
        ],
        [
         "shared.yash_underwriter_demo.quote"
        ],
        [
         "shared.yash_underwriter_demo.quote_status"
        ],
        [
         "shared.yash_underwriter_demo.risk"
        ]
       ],
       "datasetInfos": [],
       "dbfsResultPath": null,
       "isJsonSchema": true,
       "metadata": {},
       "overflow": false,
       "plotOptions": {
        "customPlotOptions": {},
        "displayType": "table",
        "pivotAggregation": null,
        "pivotColumns": null,
        "xColumns": null,
        "yColumns": null
       },
       "removedWidgets": [],
       "schema": [
        {
         "metadata": "{}",
         "name": "Dropped_Table",
         "type": "\"string\""
        }
       ],
       "type": "table"
      }
     },
     "output_type": "display_data"
    }
   ],
   "source": [
    "# Get all tables under the specified catalog and schema\n",
    "tables_df = spark.sql(f\"SHOW TABLES IN {catalog}.{schema}\")\n",
    "table_names = [row['tableName'] for row in tables_df.collect()]\n",
    "\n",
    "# Delete all records from each table\n",
    "for table in table_names:\n",
    "    spark.sql(f\"DROP TABLE IF EXISTS {catalog}.{schema}.{table}\")\n",
    "\n",
    "# Display the list of tables that were cleared\n",
    "display(spark.createDataFrame([(f\"{catalog}.{schema}.{t}\",) for t in table_names], [\"Dropped_Table\"]))"
   ]
  },
  {
   "cell_type": "code",
   "execution_count": 0,
   "metadata": {
    "application/vnd.databricks.v1+cell": {
     "cellMetadata": {
      "byteLimit": 2048000,
      "rowLimit": 10000
     },
     "inputWidgets": {},
     "nuid": "54257e85-0e43-47d1-b5fd-c50d38501b50",
     "showTitle": false,
     "tableResultSettingsMap": {},
     "title": ""
    }
   },
   "outputs": [
    {
     "output_type": "execute_result",
     "data": {
      "text/plain": [
       "DataFrame[]"
      ]
     },
     "execution_count": 27,
     "metadata": {},
     "output_type": "execute_result"
    }
   ],
   "source": [
    "spark.sql(f\"\"\"\n",
    "CREATE TABLE IF NOT EXISTS {catalog}.{schema}.actuarial (\n",
    "  Product_Type STRING COMMENT 'Type of life insurance product (e.g., Term Life, Whole Life, Universal Life)',\n",
    "  Base_Mortality_Rate DECIMAL(10, 6) COMMENT 'Base mortality rate per 1000 lives, derived from actuarial tables',\n",
    "  Age_Factor DOUBLE COMMENT 'Adjustment factor based on applicant age group',\n",
    "  Gender_Factor DOUBLE COMMENT 'Adjustment factor based on gender',\n",
    "  Smoker_Factor DOUBLE COMMENT 'Adjustment factor for smoker vs non-smoker status',\n",
    "  Health_Class STRING COMMENT 'Health classification (Preferred, Standard, Substandard)',\n",
    "  Reinsurance_Cost DECIMAL(10, 6) COMMENT 'Portion of risk cost ceded to reinsurer'\n",
    ")\n",
    "USING delta\n",
    "COMMENT 'Contains actuarial rate factors used to calculate base premiums for life insurance products, incorporating age, gender, and health-based adjustments.'\n",
    "\"\"\")\n",
    "\n",
    "spark.sql(f\"\"\"\n",
    "CREATE TABLE IF NOT EXISTS {catalog}.{schema}.client_submission (\n",
    "  Client_ID STRING,\n",
    "  First_Name STRING,\n",
    "  Last_Name STRING,\n",
    "  Date_of_Birth DATE,\n",
    "  Gender STRING,\n",
    "  Occupation STRING,\n",
    "  Annual_Income_USD BIGINT,\n",
    "  Smoking_Status STRING,\n",
    "  Medical_Conditions STRING,\n",
    "  Family_History STRING,\n",
    "  Coverage_Amount_Requested BIGINT,\n",
    "  Policy_Type STRING,\n",
    "  Location STRING,\n",
    "  Risk_Level STRING,\n",
    "  Submission_Date DATE\n",
    ")\n",
    "USING delta\n",
    "COMMENT 'Captures all initial application data from individual life insurance applicants, including demographics, health, and lifestyle details used for underwriting assessment.'\n",
    "\"\"\")\n",
    "\n",
    "spark.sql(f\"\"\"\n",
    "CREATE TABLE IF NOT EXISTS {catalog}.{schema}.quote (\n",
    "  Quote_ID STRING,\n",
    "  Client_ID STRING,\n",
    "  Coverage_Amount BIGINT,\n",
    "  Premium_Estimate DOUBLE,\n",
    "  Term_Length_Years INT,\n",
    "  Product_Option STRING,\n",
    "  Health_Rating STRING,\n",
    "  Terms_and_Conditions_Summary STRING\n",
    ")\n",
    "USING delta\n",
    "COMMENT 'Stores premium quotes generated for applicants based on actuarial factors and underwriting rules. Each quote corresponds to a unique client submission.'\n",
    "\"\"\")\n",
    "\n",
    "spark.sql(f\"\"\"\n",
    "CREATE TABLE IF NOT EXISTS {catalog}.{schema}.quote_status (\n",
    "  Quote_ID STRING,\n",
    "  Client_ID STRING,\n",
    "  Stage STRING COMMENT 'Application stage (e.g., Under Review, Medical Exam Required, Approved, Issued, Declined)',\n",
    "  Status STRING COMMENT 'Current status of the quote',\n",
    "  Underwriter_Assigned STRING COMMENT 'Name or ID of the underwriter handling the case',\n",
    "  Comments STRING\n",
    ")\n",
    "USING delta\n",
    "COMMENT 'Tracks the current processing and decision status for each life insurance quote, including underwriter assignment and review notes.'\n",
    "\"\"\")\n",
    "\n",
    "spark.sql(f\"\"\"\n",
    "CREATE TABLE IF NOT EXISTS {catalog}.{schema}.risk (\n",
    "  Client_ID STRING COMMENT 'Unique identifier for the applicant.',\n",
    "  Age INT COMMENT 'Age of the applicant at time of submission.',\n",
    "  BMI DOUBLE COMMENT 'Body Mass Index value used in health risk evaluation.',\n",
    "  Blood_Pressure STRING COMMENT 'Blood pressure reading category (e.g., Normal, Elevated, Stage 1 Hypertension).',\n",
    "  Cholesterol_Level STRING COMMENT 'Cholesterol level classification (e.g., Normal, Borderline, High).',\n",
    "  Smoking_Status STRING COMMENT 'Smoker or Non-Smoker, affects mortality risk.',\n",
    "  Alcohol_Use STRING COMMENT 'Reported alcohol consumption (None, Moderate, Heavy).',\n",
    "  Exercise_Frequency STRING COMMENT 'Frequency of exercise (e.g., Daily, Weekly, Rarely).',\n",
    "  Medical_History_Score DOUBLE COMMENT 'Aggregated score from known medical conditions.',\n",
    "  Family_History_Risk DOUBLE COMMENT 'Risk factor from hereditary conditions.',\n",
    "  Lifestyle_Risk DOUBLE COMMENT 'Composite lifestyle-based risk score.',\n",
    "  Overall_Risk_Score DOUBLE COMMENT 'Calculated overall underwriting risk score combining health, lifestyle, and hereditary risk factors.'\n",
    ")\n",
    "USING delta\n",
    "COMMENT 'Contains risk assessment metrics for individual life insurance applicants. Combines demographic, health, and lifestyle data to produce an overall underwriting risk score used in pricing and decision models.'\n",
    "\"\"\")"
   ]
  },
  {
   "cell_type": "code",
   "execution_count": 0,
   "metadata": {
    "application/vnd.databricks.v1+cell": {
     "cellMetadata": {
      "byteLimit": 2048000,
      "implicitDf": true,
      "rowLimit": 10000
     },
     "inputWidgets": {},
     "nuid": "f0e667ef-0745-4d79-a35d-c8d809bd2f0c",
     "showTitle": false,
     "tableResultSettingsMap": {},
     "title": ""
    }
   },
   "outputs": [
    {
     "output_type": "execute_result",
     "data": {
      "text/plain": [
       "DataFrame[num_affected_rows: bigint, num_inserted_rows: bigint]"
      ]
     },
     "execution_count": 28,
     "metadata": {},
     "output_type": "execute_result"
    }
   ],
   "source": [
    "spark.sql(f\"\"\"\n",
    "INSERT INTO {catalog}.{schema}.actuarial VALUES\n",
    "('Term Life', 0.0012, 1.0, 1.05, 1.3, 'Preferred', 0.0004),\n",
    "('Term Life', 0.0015, 1.2, 1.0, 1.5, 'Standard', 0.0006),\n",
    "('Whole Life', 0.0021, 1.1, 1.1, 1.4, 'Preferred', 0.0007),\n",
    "('Whole Life', 0.0028, 1.3, 1.0, 1.6, 'Standard', 0.0010),\n",
    "('Universal Life', 0.0023, 1.1, 1.1, 1.4, 'Preferred', 0.0008),\n",
    "('Universal Life', 0.0029, 1.3, 1.0, 1.6, 'Standard', 0.0011)\n",
    "\"\"\")\n",
    "\n",
    "spark.sql(f\"\"\"\n",
    "INSERT INTO {catalog}.{schema}.client_submission VALUES\n",
    "('C001','Alice','Nguyen','1988-03-22','Female','Accountant',85000,'Non-Smoker','None','None',500000,'Term Life','Seattle','Low','2025-01-15'),\n",
    "('C002','Brian','Lopez','1975-06-12','Male','Truck Driver',68000,'Smoker','Hypertension','Cardiac',250000,'Whole Life','Houston','High','2025-02-10'),\n",
    "('C003','Chloe','Patel','1993-09-08','Female','Software Engineer',120000,'Non-Smoker','None','None',1000000,'Term Life','Austin','Low','2025-03-05'),\n",
    "('C004','Daniel','Kim','1980-02-14','Male','Sales Manager',95000,'Non-Smoker','Diabetes','Diabetes',750000,'Universal Life','Denver','Medium','2025-03-22'),\n",
    "('C005','Ella','Reed','1995-11-30','Female','Nurse',72000,'Non-Smoker','Asthma','None',400000,'Term Life','Miami','Low','2025-04-12'),\n",
    "('C006','Frank','Wright','1965-04-11','Male','Electrician',78000,'Smoker','Heart Disease','Cardiac',300000,'Whole Life','Chicago','High','2025-05-08'),\n",
    "('C007','Grace','Olsen','1989-07-18','Female','Marketing Specialist',98000,'Non-Smoker','None','None',600000,'Universal Life','Boston','Low','2025-05-27'),\n",
    "('C008','Henry','Diaz','1972-05-22','Male','Chef',64000,'Smoker','Obesity','Diabetes',200000,'Whole Life','Phoenix','High','2025-06-14'),\n",
    "('C009','Isabella','Lee','1986-01-09','Female','Teacher',71000,'Non-Smoker','Hypertension','Hypertension',500000,'Term Life','San Diego','Medium','2025-06-28'),\n",
    "('C010','Jack','Taylor','1990-10-19','Male','Software Developer',130000,'Non-Smoker','None','None',900000,'Universal Life','San Jose','Low','2025-07-05'),\n",
    "('C011','Karen','Martinez','1982-08-02','Female','Financial Advisor',115000,'Non-Smoker','None','Cardiac',750000,'Whole Life','Dallas','Medium','2025-07-18'),\n",
    "('C012','Leo','Singh','1970-12-17','Male','Mechanic',60000,'Smoker','Hypertension','Diabetes',250000,'Whole Life','Detroit','High','2025-08-02'),\n",
    "('C013','Mia','Adams','1996-05-03','Female','Graphic Designer',85000,'Non-Smoker','None','None',450000,'Term Life','Portland','Low','2025-08-19'),\n",
    "('C014','Noah','Brown','1983-09-25','Male','Engineer',100000,'Non-Smoker','Diabetes','None',800000,'Universal Life','Atlanta','Medium','2025-09-01'),\n",
    "('C015','Olivia','Johnson','1978-07-12','Female','HR Manager',92000,'Non-Smoker','Hypertension','Cardiac',600000,'Whole Life','Nashville','Medium','2025-09-20'),\n",
    "('C016','Paul','Gomez','1992-11-01','Male','Pilot',140000,'Non-Smoker','None','None',1500000,'Term Life','New York','Low','2025-09-30'),\n",
    "('C017','Quinn','Evans','1969-03-27','Male','Construction Foreman',75000,'Smoker','Heart Disease','Cardiac',300000,'Whole Life','Cleveland','High','2025-10-05'),\n",
    "('C018','Riley','Chen','1987-12-09','Female','Pharmacist',110000,'Non-Smoker','None','Diabetes',850000,'Universal Life','San Francisco','Medium','2025-10-10'),\n",
    "('C019','Sam','Parker','1981-10-05','Male','Lawyer',160000,'Non-Smoker','None','None',1200000,'Whole Life','Washington','Low','2025-10-25'),\n",
    "('C020','Tina','Hall','1976-02-15','Female','Teacher',67000,'Non-Smoker','Asthma','Hypertension',400000,'Term Life','Tampa','Medium','2025-11-09'),\n",
    "('C021','Uma','Rao','1984-06-21','Female','Entrepreneur',200000,'Non-Smoker','None','None',1800000,'Universal Life','Los Angeles','Low','2025-11-23'),\n",
    "('C022','Victor','Allen','1973-04-04','Male','Warehouse Worker',55000,'Smoker','Obesity','Cardiac',1250000,'Whole Life','Cincinnati','High','2025-12-05'),\n",
    "('C023','Wendy','Scott','1991-09-11','Female','UX Designer',95000,'Non-Smoker','None','None',650000,'Term Life','Charlotte','Low','2025-12-20')\n",
    "\"\"\")\n",
    "\n",
    "spark.sql(f\"\"\"\n",
    "INSERT INTO {catalog}.{schema}.risk VALUES\n",
    "('C001',37,22.3,'Normal','Normal','Non-Smoker','None','Daily',1.2,0.8,2.5,2.1),\n",
    "('C002',50,29.4,'High','High','Smoker','Moderate','Rarely',3.5,3.0,8.0,6.5),\n",
    "('C003',32,23.1,'Normal','Normal','Non-Smoker','None','Daily',0.9,1.0,2.2,2.0),\n",
    "('C004',45,27.8,'Elevated','Borderline','Non-Smoker','Moderate','Weekly',2.5,2.2,5.0,4.1),\n",
    "('C005',30,21.5,'Normal','Normal','Non-Smoker','None','Daily',1.0,0.7,2.0,1.8),\n",
    "('C006',60,31.6,'High','High','Smoker','Heavy','Rarely',4.5,3.8,9.5,7.8),\n",
    "('C007',36,24.2,'Normal','Normal','Non-Smoker','Moderate','Daily',1.1,0.8,2.3,2.0),\n",
    "('C008',53,33.5,'High','Borderline','Smoker','Heavy','Rarely',3.8,3.1,8.5,6.9),\n",
    "('C009',39,25.9,'Elevated','Borderline','Non-Smoker','Moderate','Weekly',2.2,2.0,4.5,3.8),\n",
    "('C010',35,23.5,'Normal','Normal','Non-Smoker','None','Daily',1.0,1.1,2.0,2.0),\n",
    "('C011',43,26.1,'Elevated','Borderline','Non-Smoker','Moderate','Weekly',2.0,2.2,4.2,3.7),\n",
    "('C012',55,30.8,'High','High','Smoker','Heavy','Rarely',4.2,3.5,9.2,7.6),\n",
    "('C013',29,22.0,'Normal','Normal','Non-Smoker','None','Daily',1.1,0.9,2.3,2.0),\n",
    "('C014',42,27.0,'Elevated','Borderline','Non-Smoker','Moderate','Weekly',2.4,2.1,4.6,3.9),\n",
    "('C015',47,26.7,'Elevated','High','Non-Smoker','Moderate','Weekly',2.8,2.5,5.8,4.8),\n",
    "('C016',33,24.5,'Normal','Normal','Non-Smoker','None','Daily',1.0,0.9,2.0,1.9),\n",
    "('C017',56,31.8,'High','High','Smoker','Heavy','Rarely',4.8,3.9,9.8,8.0),\n",
    "('C018',38,25.0,'Normal','Borderline','Non-Smoker','Moderate','Weekly',2.0,1.8,4.0,3.5),\n",
    "('C019',44,26.4,'Normal','Normal','Non-Smoker','Moderate','Daily',1.5,1.5,3.5,3.0),\n",
    "('C020',49,27.5,'Elevated','Borderline','Non-Smoker','Moderate','Weekly',2.5,2.0,5.0,4.1),\n",
    "('C021',41,25.3,'Normal','Normal','Non-Smoker','None','Daily',1.1,1.0,2.3,2.0),\n",
    "('C022',52,33.0,'High','High','Smoker','Heavy','Rarely',4.0,3.5,8.8,7.3),\n",
    "('C023',34,23.2,'Normal','Normal','Non-Smoker','None','Daily',1.0,1.0,2.1,1.9)\n",
    "\"\"\")\n",
    "\n",
    "spark.sql(f\"\"\"\n",
    "INSERT INTO {catalog}.{schema}.quote VALUES\n",
    "('Q001','C001',500000,610.25,20,'Term Life','Low','Preferred terms. No medical exam required.'),\n",
    "('Q002','C002',250000,2050.40,15,'Whole Life','High','High-risk applicant. Subject to medical exam.'),\n",
    "('Q003','C003',1000000,920.10,20,'Term Life','Low','Preferred terms. No medical exam required.'),\n",
    "('Q004','C004',750000,1325.50,20,'Universal Life','Medium','Standard underwriting terms.'),\n",
    "('Q005','C005',400000,550.60,15,'Term Life','Low','Preferred terms. No medical exam required.'),\n",
    "('Q006','C006',300000,2300.75,20,'Whole Life','High','High-risk applicant. Subject to medical exam.'),\n",
    "('Q007','C007',600000,790.80,20,'Universal Life','Low','Preferred terms. No medical exam required.'),\n",
    "('Q008','C008',200000,1850.20,15,'Whole Life','High','High-risk applicant. Subject to medical exam.'),\n",
    "('Q009','C009',500000,950.45,20,'Term Life','Medium','Standard underwriting terms.'),\n",
    "('Q010','C010',900000,910.90,20,'Universal Life','Low','Preferred terms.'),\n",
    "('Q011','C011',750000,1100.70,20,'Whole Life','Medium','Standard underwriting terms.'),\n",
    "('Q012','C012',250000,2150.85,15,'Whole Life','High','High-risk applicant.'),\n",
    "('Q013','C013',450000,590.35,15,'Term Life','Low','Preferred terms.'),\n",
    "('Q014','C014',800000,1250.60,20,'Universal Life','Medium','Standard underwriting terms.'),\n",
    "('Q015','C015',600000,1150.80,20,'Whole Life','Medium','Standard underwriting terms.'),\n",
    "('Q016','C016',1500000,980.20,20,'Term Life','Low','Preferred terms.'),\n",
    "('Q017','C017',300000,2400.40,15,'Whole Life','High','High-risk applicant.'),\n",
    "('Q018','C018',850000,1180.10,20,'Universal Life','Medium','Standard underwriting terms.'),\n",
    "('Q019','C019',1200000,870.25,20,'Whole Life','Low','Preferred terms.'),\n",
    "('Q020','C020',400000,1020.65,15,'Term Life','Medium','Standard underwriting terms.'),\n",
    "('Q021','C021',1800000,990.80,20,'Universal Life','Low','Preferred terms.'),\n",
    "('Q022','C022',1250000,2100.75,15,'Whole Life','High','High-risk applicant.'),\n",
    "('Q023','C023',650000,670.50,20,'Term Life','Low','Preferred terms.')\n",
    "\"\"\")\n",
    "\n",
    "spark.sql(f\"\"\"\n",
    "INSERT INTO {catalog}.{schema}.quote_status VALUES\n",
    "('Q001','C001','Approved','Completed','Jessica Moore','Approved after standard underwriting.'),\n",
    "('Q002','C002','Under Review','Pending','David Lee','Medical exam requested.'),\n",
    "('Q003','C003','Issued','Completed','Sarah Patel','Preferred approval.'),\n",
    "('Q004','C004','Under Review','In Progress','Michael Chen','Additional labs required.'),\n",
    "('Q005','C005','Approved','Completed','Emma Jones','Clean record.'),\n",
    "('Q006','C006','Declined','Closed','Robert Hill','High cardiac risk.'),\n",
    "('Q007','C007','Issued','Completed','John Smith','Approved preferred class.'),\n",
    "('Q008','C008','Under Review','Pending','Angela Davis','BMI and BP concerns.'),\n",
    "('Q009','C009','Medical Exam Required','In Progress','Kevin Reed','BP borderline.'),\n",
    "('Q010','C010','Approved','Completed','Rachel Adams','Issued without rider.'),\n",
    "('Q011','C011','Under Review','In Progress','Chris White','Waiting on labs.'),\n",
    "('Q012','C012','Declined','Closed','Amy Turner','Severe hypertension.'),\n",
    "('Q013','C013','Issued','Completed','Hannah Kim','Preferred approval.'),\n",
    "('Q014','C014','Medical Exam Required','In Progress','Eric Johnson','A1C pending.'),\n",
    "('Q015','C015','Under Review','Pending','Maria Lopez','BP follow-up required.'),\n",
    "('Q016','C016','Issued','Completed','James Brown','Clean aviation profile.'),\n",
    "('Q017','C017','Declined','Closed','Tom Wilson','Multiple cardiac issues.'),\n",
    "('Q018','C018','Approved','Completed','Sophia Green','Standard approval.'),\n",
    "('Q019','C019','Issued','Completed','Olivia Martinez','Premium confirmed.'),\n",
    "('Q020','C020','Medical Exam Required','In Progress','Daniel Evans','Asthma check pending.'),\n",
    "('Q021','C021','Issued','Completed','Patrick Young','Preferred elite class.'),\n",
    "('Q022','C022','Declined','Closed','Laura Scott','Obesity and smoker profile.'),\n",
    "('Q023','C023','Approved','Completed','Ben Carter','Preferred non-smoker.')\n",
    "\"\"\")"
   ]
  },
  {
   "cell_type": "code",
   "execution_count": 0,
   "metadata": {
    "application/vnd.databricks.v1+cell": {
     "cellMetadata": {
      "byteLimit": 2048000,
      "implicitDf": true,
      "rowLimit": 10000
     },
     "inputWidgets": {},
     "nuid": "dadf20cc-8c0d-4db7-8bf4-07415676926c",
     "showTitle": false,
     "tableResultSettingsMap": {},
     "title": ""
    }
   },
   "outputs": [
    {
     "output_type": "execute_result",
     "data": {
      "text/plain": [
       "DataFrame[]"
      ]
     },
     "execution_count": 7,
     "metadata": {},
     "output_type": "execute_result"
    }
   ],
   "source": [
    "spark.sql(f\"\"\"\n",
    "CREATE OR REPLACE FUNCTION {catalog}.{schema}.get_quote(client STRING)\n",
    "RETURNS TABLE (\n",
    "  Quote_ID STRING,\n",
    "  Client STRING,\n",
    "  Coverage_Amount BIGINT,\n",
    "  Premium_Estimate DOUBLE,\n",
    "  Term_Length_Years INT,\n",
    "  Product_Option STRING,\n",
    "  Health_Rating STRING,\n",
    "  Terms_and_Conditions_Summary STRING\n",
    ")\n",
    "COMMENT 'Returns all quote details for a specified client (input is full name: First Last), including coverage, premium estimate, product option, and health rating.'\n",
    "RETURN\n",
    "  SELECT \n",
    "    Quote_ID, \n",
    "    CONCAT(c.First_Name, ' ', c.Last_Name) AS Client,\n",
    "    Coverage_Amount,\n",
    "    Premium_Estimate,\n",
    "    Term_Length_Years,\n",
    "    Product_Option,\n",
    "    Health_Rating,\n",
    "    Terms_and_Conditions_Summary\n",
    "  FROM {catalog}.{schema}.quote q\n",
    "  JOIN {catalog}.{schema}.client_submission c\n",
    "    ON q.Client_ID = c.Client_ID\n",
    "  WHERE LOWER(CONCAT(c.First_Name, ' ', c.Last_Name)) = LOWER(client);\n",
    "\"\"\")"
   ]
  },
  {
   "cell_type": "code",
   "execution_count": 0,
   "metadata": {
    "application/vnd.databricks.v1+cell": {
     "cellMetadata": {
      "byteLimit": 2048000,
      "implicitDf": true,
      "rowLimit": 10000
     },
     "inputWidgets": {},
     "nuid": "5d32da0d-5a3b-47e3-867c-67375c6a1fd7",
     "showTitle": false,
     "tableResultSettingsMap": {
      "0": {
       "dataGridStateBlob": "{\"version\":1,\"tableState\":{\"columnPinning\":{\"left\":[\"#row_number#\"],\"right\":[]},\"columnSizing\":{},\"columnVisibility\":{}},\"settings\":{\"columns\":{}},\"syncTimestamp\":1760109791890}",
       "filterBlob": null,
       "queryPlanFiltersBlob": null,
       "tableResultIndex": 0
      }
     },
     "title": ""
    }
   },
   "outputs": [
    {
     "output_type": "display_data",
     "data": {
      "text/html": [
       "<style scoped>\n",
       "  .table-result-container {\n",
       "    max-height: 300px;\n",
       "    overflow: auto;\n",
       "  }\n",
       "  table, th, td {\n",
       "    border: 1px solid black;\n",
       "    border-collapse: collapse;\n",
       "  }\n",
       "  th, td {\n",
       "    padding: 5px;\n",
       "  }\n",
       "  th {\n",
       "    text-align: left;\n",
       "  }\n",
       "</style><div class='table-result-container'><table class='table-result'><thead style='background-color: white'><tr><th>Quote_ID</th><th>Client</th><th>Coverage_Amount</th><th>Premium_Estimate</th><th>Term_Length_Years</th><th>Product_Option</th><th>Health_Rating</th><th>Terms_and_Conditions_Summary</th></tr></thead><tbody><tr><td>Q001</td><td>Alice Nguyen</td><td>500000</td><td>610.25</td><td>20</td><td>Term Life</td><td>Low</td><td>Preferred terms. No medical exam required.</td></tr></tbody></table></div>"
      ]
     },
     "metadata": {
      "application/vnd.databricks.v1+output": {
       "addedWidgets": {},
       "aggData": [],
       "aggError": "",
       "aggOverflow": false,
       "aggSchema": [],
       "aggSeriesLimitReached": false,
       "aggType": "",
       "arguments": {},
       "columnCustomDisplayInfos": {},
       "data": [
        [
         "Q001",
         "Alice Nguyen",
         500000,
         610.25,
         20,
         "Term Life",
         "Low",
         "Preferred terms. No medical exam required."
        ]
       ],
       "datasetInfos": [],
       "dbfsResultPath": null,
       "isJsonSchema": true,
       "metadata": {},
       "overflow": false,
       "plotOptions": {
        "customPlotOptions": {},
        "displayType": "table",
        "pivotAggregation": null,
        "pivotColumns": null,
        "xColumns": null,
        "yColumns": null
       },
       "removedWidgets": [],
       "schema": [
        {
         "metadata": "{}",
         "name": "Quote_ID",
         "type": "\"string\""
        },
        {
         "metadata": "{}",
         "name": "Client",
         "type": "\"string\""
        },
        {
         "metadata": "{}",
         "name": "Coverage_Amount",
         "type": "\"long\""
        },
        {
         "metadata": "{}",
         "name": "Premium_Estimate",
         "type": "\"double\""
        },
        {
         "metadata": "{}",
         "name": "Term_Length_Years",
         "type": "\"integer\""
        },
        {
         "metadata": "{}",
         "name": "Product_Option",
         "type": "\"string\""
        },
        {
         "metadata": "{}",
         "name": "Health_Rating",
         "type": "\"string\""
        },
        {
         "metadata": "{}",
         "name": "Terms_and_Conditions_Summary",
         "type": "\"string\""
        }
       ],
       "type": "table"
      }
     },
     "output_type": "display_data"
    }
   ],
   "source": [
    "# Step 1: Get a sample client full name\n",
    "client_name_row = spark.sql(f\"\"\"\n",
    "    SELECT CONCAT(First_Name, ' ', Last_Name) AS Client_Name\n",
    "    FROM {catalog}.{schema}.client_submission\n",
    "    LIMIT 1\n",
    "\"\"\").collect()[0]\n",
    "client_name = client_name_row['Client_Name']\n",
    "\n",
    "# Step 2: Use the value to test get_quote_status function\n",
    "display(spark.sql(f\"\"\"\n",
    "    SELECT q.* FROM {catalog}.{schema}.get_quote('{client_name}') q\n",
    "\"\"\"))"
   ]
  },
  {
   "cell_type": "code",
   "execution_count": 0,
   "metadata": {
    "application/vnd.databricks.v1+cell": {
     "cellMetadata": {
      "byteLimit": 2048000,
      "implicitDf": true,
      "rowLimit": 10000
     },
     "inputWidgets": {},
     "nuid": "6643f137-dddb-4765-88ef-e4fd26ad42f1",
     "showTitle": false,
     "tableResultSettingsMap": {},
     "title": ""
    }
   },
   "outputs": [
    {
     "output_type": "execute_result",
     "data": {
      "text/plain": [
       "DataFrame[]"
      ]
     },
     "execution_count": 9,
     "metadata": {},
     "output_type": "execute_result"
    }
   ],
   "source": [
    "spark.sql(f\"\"\"\n",
    "CREATE OR REPLACE FUNCTION {catalog}.{schema}.get_quote_status(client STRING)\n",
    "RETURNS TABLE (\n",
    "  Quote_ID STRING,\n",
    "  Client STRING,\n",
    "  Stage STRING,\n",
    "  Status STRING,\n",
    "  Underwriter_Assigned STRING,\n",
    "  Comments STRING\n",
    ")\n",
    "COMMENT 'Returns the current quote status, application stage, underwriter assignment, and comments for a specified client (input is full name: First Last).'\n",
    "RETURN\n",
    "  SELECT \n",
    "    q.Quote_ID,\n",
    "    CONCAT(c.First_Name, ' ', c.Last_Name) AS Client,\n",
    "    q.Stage,\n",
    "    q.Status,\n",
    "    q.Underwriter_Assigned,\n",
    "    q.Comments\n",
    "  FROM {catalog}.{schema}.quote_status q\n",
    "  JOIN {catalog}.{schema}.client_submission c\n",
    "    ON q.Client_ID = c.Client_ID\n",
    "  WHERE LOWER(CONCAT(c.First_Name, ' ', c.Last_Name)) = LOWER(client);\n",
    "\"\"\")"
   ]
  },
  {
   "cell_type": "code",
   "execution_count": 0,
   "metadata": {
    "application/vnd.databricks.v1+cell": {
     "cellMetadata": {
      "byteLimit": 2048000,
      "implicitDf": true,
      "rowLimit": 10000
     },
     "inputWidgets": {},
     "nuid": "afe8233c-69a7-469a-aa4e-dd79fc5abcba",
     "showTitle": false,
     "tableResultSettingsMap": {},
     "title": ""
    }
   },
   "outputs": [
    {
     "output_type": "display_data",
     "data": {
      "text/html": [
       "<style scoped>\n",
       "  .table-result-container {\n",
       "    max-height: 300px;\n",
       "    overflow: auto;\n",
       "  }\n",
       "  table, th, td {\n",
       "    border: 1px solid black;\n",
       "    border-collapse: collapse;\n",
       "  }\n",
       "  th, td {\n",
       "    padding: 5px;\n",
       "  }\n",
       "  th {\n",
       "    text-align: left;\n",
       "  }\n",
       "</style><div class='table-result-container'><table class='table-result'><thead style='background-color: white'><tr><th>Quote_ID</th><th>Client</th><th>Stage</th><th>Status</th><th>Underwriter_Assigned</th><th>Comments</th></tr></thead><tbody><tr><td>Q001</td><td>Alice Nguyen</td><td>Approved</td><td>Completed</td><td>Jessica Moore</td><td>Approved after standard underwriting.</td></tr></tbody></table></div>"
      ]
     },
     "metadata": {
      "application/vnd.databricks.v1+output": {
       "addedWidgets": {},
       "aggData": [],
       "aggError": "",
       "aggOverflow": false,
       "aggSchema": [],
       "aggSeriesLimitReached": false,
       "aggType": "",
       "arguments": {},
       "columnCustomDisplayInfos": {},
       "data": [
        [
         "Q001",
         "Alice Nguyen",
         "Approved",
         "Completed",
         "Jessica Moore",
         "Approved after standard underwriting."
        ]
       ],
       "datasetInfos": [],
       "dbfsResultPath": null,
       "isJsonSchema": true,
       "metadata": {},
       "overflow": false,
       "plotOptions": {
        "customPlotOptions": {},
        "displayType": "table",
        "pivotAggregation": null,
        "pivotColumns": null,
        "xColumns": null,
        "yColumns": null
       },
       "removedWidgets": [],
       "schema": [
        {
         "metadata": "{}",
         "name": "Quote_ID",
         "type": "\"string\""
        },
        {
         "metadata": "{}",
         "name": "Client",
         "type": "\"string\""
        },
        {
         "metadata": "{}",
         "name": "Stage",
         "type": "\"string\""
        },
        {
         "metadata": "{}",
         "name": "Status",
         "type": "\"string\""
        },
        {
         "metadata": "{}",
         "name": "Underwriter_Assigned",
         "type": "\"string\""
        },
        {
         "metadata": "{}",
         "name": "Comments",
         "type": "\"string\""
        }
       ],
       "type": "table"
      }
     },
     "output_type": "display_data"
    }
   ],
   "source": [
    "# Step 1: Get a sample client full name\n",
    "client_name_row = spark.sql(f\"\"\"\n",
    "    SELECT CONCAT(First_Name, ' ', Last_Name) AS Client_Name\n",
    "    FROM {catalog}.{schema}.client_submission\n",
    "    LIMIT 1\n",
    "\"\"\").collect()[0]\n",
    "client_name = client_name_row['Client_Name']\n",
    "\n",
    "# Step 2: Use the value to test get_quote_status function\n",
    "display(spark.sql(f\"\"\"\n",
    "    SELECT q.* FROM {catalog}.{schema}.get_quote_status('{client_name}') q\n",
    "\"\"\"))"
   ]
  },
  {
   "cell_type": "code",
   "execution_count": 0,
   "metadata": {
    "application/vnd.databricks.v1+cell": {
     "cellMetadata": {
      "byteLimit": 2048000,
      "implicitDf": true,
      "rowLimit": 10000
     },
     "inputWidgets": {},
     "nuid": "a150e7bd-cc38-4d12-8b47-1efa0b4532dc",
     "showTitle": false,
     "tableResultSettingsMap": {},
     "title": ""
    }
   },
   "outputs": [
    {
     "output_type": "execute_result",
     "data": {
      "text/plain": [
       "DataFrame[]"
      ]
     },
     "execution_count": 11,
     "metadata": {},
     "output_type": "execute_result"
    }
   ],
   "source": [
    "spark.sql(f\"\"\"\n",
    "CREATE OR REPLACE FUNCTION {catalog}.{schema}.get_risk_score(client STRING)\n",
    "RETURNS TABLE (\n",
    "  Client STRING,\n",
    "  Age INT,\n",
    "  BMI DOUBLE,\n",
    "  Blood_Pressure STRING,\n",
    "  Cholesterol_Level STRING,\n",
    "  Smoking_Status STRING,\n",
    "  Alcohol_Use STRING,\n",
    "  Exercise_Frequency STRING,\n",
    "  Medical_History_Score DOUBLE,\n",
    "  Family_History_Risk DOUBLE,\n",
    "  Lifestyle_Risk DOUBLE,\n",
    "  Overall_Risk_Score DOUBLE\n",
    ")\n",
    "COMMENT 'Returns detailed risk assessment metrics for a specified client, including age, BMI, blood pressure, cholesterol, lifestyle, and overall underwriting risk score. Input is the full client name (First Last).'\n",
    "RETURN\n",
    "  SELECT \n",
    "    CONCAT(c.First_Name, ' ', c.Last_Name) AS Client,\n",
    "    q.Age,\n",
    "    q.BMI,\n",
    "    q.Blood_Pressure,\n",
    "    q.Cholesterol_Level,\n",
    "    q.Smoking_Status,\n",
    "    q.Alcohol_Use,\n",
    "    q.Exercise_Frequency,\n",
    "    q.Medical_History_Score,\n",
    "    q.Family_History_Risk,\n",
    "    q.Lifestyle_Risk,\n",
    "    q.Overall_Risk_Score\n",
    "  FROM {catalog}.{schema}.risk q\n",
    "  JOIN {catalog}.{schema}.client_submission c\n",
    "    ON q.Client_ID = c.Client_ID\n",
    "  WHERE LOWER(CONCAT(c.First_Name, ' ', c.Last_Name)) = LOWER(client);\n",
    "\"\"\")"
   ]
  },
  {
   "cell_type": "code",
   "execution_count": 0,
   "metadata": {
    "application/vnd.databricks.v1+cell": {
     "cellMetadata": {
      "byteLimit": 2048000,
      "implicitDf": true,
      "rowLimit": 10000
     },
     "inputWidgets": {},
     "nuid": "c618028d-5e59-48ed-b9a5-f22149119813",
     "showTitle": false,
     "tableResultSettingsMap": {
      "0": {
       "dataGridStateBlob": "{\"version\":1,\"tableState\":{\"columnPinning\":{\"left\":[\"#row_number#\"],\"right\":[]},\"columnSizing\":{},\"columnVisibility\":{}},\"settings\":{\"columns\":{}},\"syncTimestamp\":1760110024622}",
       "filterBlob": null,
       "queryPlanFiltersBlob": null,
       "tableResultIndex": 0
      }
     },
     "title": ""
    }
   },
   "outputs": [
    {
     "output_type": "display_data",
     "data": {
      "text/html": [
       "<style scoped>\n",
       "  .table-result-container {\n",
       "    max-height: 300px;\n",
       "    overflow: auto;\n",
       "  }\n",
       "  table, th, td {\n",
       "    border: 1px solid black;\n",
       "    border-collapse: collapse;\n",
       "  }\n",
       "  th, td {\n",
       "    padding: 5px;\n",
       "  }\n",
       "  th {\n",
       "    text-align: left;\n",
       "  }\n",
       "</style><div class='table-result-container'><table class='table-result'><thead style='background-color: white'><tr><th>Client</th><th>Age</th><th>BMI</th><th>Blood_Pressure</th><th>Cholesterol_Level</th><th>Smoking_Status</th><th>Alcohol_Use</th><th>Exercise_Frequency</th><th>Medical_History_Score</th><th>Family_History_Risk</th><th>Lifestyle_Risk</th><th>Overall_Risk_Score</th></tr></thead><tbody><tr><td>Alice Nguyen</td><td>37</td><td>22.3</td><td>Normal</td><td>Normal</td><td>Non-Smoker</td><td>None</td><td>Daily</td><td>1.2</td><td>0.8</td><td>2.5</td><td>2.1</td></tr></tbody></table></div>"
      ]
     },
     "metadata": {
      "application/vnd.databricks.v1+output": {
       "addedWidgets": {},
       "aggData": [],
       "aggError": "",
       "aggOverflow": false,
       "aggSchema": [],
       "aggSeriesLimitReached": false,
       "aggType": "",
       "arguments": {},
       "columnCustomDisplayInfos": {},
       "data": [
        [
         "Alice Nguyen",
         37,
         22.3,
         "Normal",
         "Normal",
         "Non-Smoker",
         "None",
         "Daily",
         1.2,
         0.8,
         2.5,
         2.1
        ]
       ],
       "datasetInfos": [],
       "dbfsResultPath": null,
       "isJsonSchema": true,
       "metadata": {},
       "overflow": false,
       "plotOptions": {
        "customPlotOptions": {},
        "displayType": "table",
        "pivotAggregation": null,
        "pivotColumns": null,
        "xColumns": null,
        "yColumns": null
       },
       "removedWidgets": [],
       "schema": [
        {
         "metadata": "{}",
         "name": "Client",
         "type": "\"string\""
        },
        {
         "metadata": "{}",
         "name": "Age",
         "type": "\"integer\""
        },
        {
         "metadata": "{}",
         "name": "BMI",
         "type": "\"double\""
        },
        {
         "metadata": "{}",
         "name": "Blood_Pressure",
         "type": "\"string\""
        },
        {
         "metadata": "{}",
         "name": "Cholesterol_Level",
         "type": "\"string\""
        },
        {
         "metadata": "{}",
         "name": "Smoking_Status",
         "type": "\"string\""
        },
        {
         "metadata": "{}",
         "name": "Alcohol_Use",
         "type": "\"string\""
        },
        {
         "metadata": "{}",
         "name": "Exercise_Frequency",
         "type": "\"string\""
        },
        {
         "metadata": "{}",
         "name": "Medical_History_Score",
         "type": "\"double\""
        },
        {
         "metadata": "{}",
         "name": "Family_History_Risk",
         "type": "\"double\""
        },
        {
         "metadata": "{}",
         "name": "Lifestyle_Risk",
         "type": "\"double\""
        },
        {
         "metadata": "{}",
         "name": "Overall_Risk_Score",
         "type": "\"double\""
        }
       ],
       "type": "table"
      }
     },
     "output_type": "display_data"
    }
   ],
   "source": [
    "# Step 1: Get a sample client full name\n",
    "client_name_row = spark.sql(f\"\"\"\n",
    "    SELECT CONCAT(First_Name, ' ', Last_Name) AS Client_Name\n",
    "    FROM {catalog}.{schema}.client_submission\n",
    "    LIMIT 1\n",
    "\"\"\").collect()[0]\n",
    "client_name = client_name_row['Client_Name']\n",
    "\n",
    "# Step 2: Use the value to test get_quote_status function\n",
    "display(spark.sql(f\"\"\"\n",
    "    SELECT q.* FROM {catalog}.{schema}.get_risk_score('{client_name}') q\n",
    "\"\"\"))"
   ]
  },
  {
   "cell_type": "markdown",
   "metadata": {
    "application/vnd.databricks.v1+cell": {
     "cellMetadata": {
      "byteLimit": 2048000,
      "rowLimit": 10000
     },
     "inputWidgets": {},
     "nuid": "f3fbfdb9-b0c8-40c3-a303-a5425d3314a7",
     "showTitle": false,
     "tableResultSettingsMap": {},
     "title": ""
    }
   },
   "source": [
    "### \uD83D\uDE80 How to Use in Databricks Genie\n",
    "\n",
    "Here are example Genie prompts for your underwriting demo:\n",
    "\n",
    "**Prompt\tGenie’s Possible Response**\n",
    "\n",
    "“Explain why this client’s premium is $950.”\t“80% of the increase is due to smoking status (+50%), 15% from above-average risk score, and 5% from age.”\n",
    "\n",
    "“Show top 10 applicants where smoking had the largest impact.”\tGenie lists those with highest Premium_from_Smoking.\n",
    "\n",
    "“Compare average explained premiums between genders.”\tGenie produces an aggregated view.\n",
    "\n",
    "“Which factor contributes most to premium variance across all applicants?”\tGenie visualizes variance drivers across Age, Smoking, Risk.\n",
    "\n",
    "**Then you can ask Genie things like**:\n",
    "\n",
    "“Compare average premium factors by pricing tier.”\n",
    "“Which group has the highest smoking-related premium impact?”\n",
    "\n"
   ]
  }
 ],
 "metadata": {
  "application/vnd.databricks.v1+notebook": {
   "computePreferences": {
    "hardware": {
     "accelerator": null,
     "gpuPoolId": null,
     "memory": null
    }
   },
   "dashboards": [],
   "environmentMetadata": {
    "base_environment": "",
    "environment_version": "4"
   },
   "inputWidgetPreferences": null,
   "language": "python",
   "notebookMetadata": {
    "mostRecentlyExecutedCommandWithImplicitDF": {
     "commandId": 8945448189557055,
     "dataframes": [
      "_sqldf"
     ]
    },
    "pythonIndentUnit": 2
   },
   "notebookName": "Protective Life Workshop - Dataset Setup",
   "widgets": {
    "catalog": {
     "currentValue": "shared",
     "nuid": "1cd6bbac-b52d-4223-9ba4-08b413ae61f2",
     "typedWidgetInfo": {
      "autoCreated": false,
      "defaultValue": "",
      "label": "",
      "name": "catalog",
      "options": {
       "widgetDisplayType": "Text",
       "validationRegex": null
      },
      "parameterDataType": "String"
     },
     "widgetInfo": {
      "widgetType": "text",
      "defaultValue": "",
      "label": "",
      "name": "catalog",
      "options": {
       "widgetType": "text",
       "autoCreated": false,
       "validationRegex": null
      }
     }
    },
    "schema": {
     "currentValue": "yash_underwriter_demo",
     "nuid": "594b8cf9-e647-4be7-a5d6-f2bb8708822b",
     "typedWidgetInfo": {
      "autoCreated": false,
      "defaultValue": "",
      "label": "",
      "name": "schema",
      "options": {
       "widgetDisplayType": "Text",
       "validationRegex": null
      },
      "parameterDataType": "String"
     },
     "widgetInfo": {
      "widgetType": "text",
      "defaultValue": "",
      "label": "",
      "name": "schema",
      "options": {
       "widgetType": "text",
       "autoCreated": false,
       "validationRegex": null
      }
     }
    }
   }
  },
  "language_info": {
   "name": "python"
  }
 },
 "nbformat": 4,
 "nbformat_minor": 0
}